{
 "cells": [
  {
   "cell_type": "markdown",
   "metadata": {},
   "source": [
    "# Clustering Handwritten Digits using Mixture of Bernoulli Distributions\n",
    "\n",
    "This is documentation of a personal project to learn and apply Bernoulli Mixture Models approach for unsupervised learning of handwritten digits dataset.<br>\n",
    "\n",
    "<b>Reference/Inspiration</b>: <b><i> Pattern Recognition and Machine Learning</i></b> by <i> Christopher M. Bishop.</i> Chapter 9, Figure 9.10.<br>\n",
    "<b>Dataset</b>: <a href=\"http://mldata.org/repository/data/viewslug/mnist-original/\">MNIST</a> Handwritten Digits. <br>\n",
    "<b>Model</b>: Bernoulli Mixture Models<br>\n",
    "<b>Algorithm</b>: Expectation-Maxization"
   ]
  },
  {
   "cell_type": "markdown",
   "metadata": {},
   "source": [
    "# Mixture of Bernoulli Distribution\n",
    "\n",
    "First, consider a single multivariate Bernoulli distribution of $D$ independent binary variables $x_i \\in \\{0, 1\\}$, where $i = 1,...,D$, each of which is in turn a univariate Bernoulli distribtion with parameter $\\mu_i$, \n",
    "\n",
    "\n",
    "$$p(\\mathbf{x}\\,|\\, \\boldsymbol{\\mu}) = \\displaystyle\\prod_{i=1}^D \\mu_i^{x_i}(1-\\mu_i)^{(1-x_i)} $$ \n",
    "\n",
    "where, $\\mathbf{x} = (x_1,...,x_D)^T$, and  $\\boldsymbol{\\mu} = (\\mu_1,...,\\mu_D)^T$.\n",
    "\n",
    "Now consider a finite mixture of $K$ multivariate Bernoulli distributions given by,\n",
    "\n",
    "$$p(\\mathbf{x}\\,|\\, \\boldsymbol{\\mu}, \\boldsymbol{\\pi}) = \\displaystyle\\sum_{k=1}^K  \\pi_k p(\\mathbf{x}\\,|\\,\\boldsymbol{\\mu}_k)$$ <br>\n",
    "\n",
    "where,<br>\n",
    "<br>$\\boldsymbol\\mu = \\{\\boldsymbol\\mu_1,...,\\boldsymbol\\mu_K\\}$ \n",
    "or\n",
    " $\\mu_{ki} =\n",
    " \\begin{pmatrix}  \n",
    "  \\mu_{11} & \\mu_{12} & \\cdots & \\mu_{1D} \\\\\n",
    "  \\mu_{2,1} & \\mu_{22} & \\cdots & \\mu_{2D} \\\\\n",
    "  \\vdots  & \\vdots  & \\ddots & \\vdots  \\\\\n",
    "  \\mu_{K1} & \\mu_{K2} & \\cdots & \\mu_{KD} \n",
    " \\end{pmatrix}$,\n",
    "$\\boldsymbol\\pi = \\{\\pi_1,...,\\pi_K\\}$, and\n",
    "\n",
    "$$p(\\mathbf{x}\\,|\\, \\boldsymbol{\\mu}_k) = \\displaystyle\\prod_{i=1}^D \\mu_ki^{x_i}(1-\\mu_{ki})^{(1-x_i)} $$ \n",
    "\n",
    "Given a data set of $\\mathbf{X} = \\left\\{\\mathbf{x}_1,...,\\mathbf{x}_N\\right\\}$, with each observation represented as a mixture of K Bernoulli distributions, then the log likelihood function is:\n",
    "\n",
    "$$\\mathrm{ln}\\,p(\\mathbf{X}\\,|\\,\\boldsymbol{\\mu},\\boldsymbol{\\pi}) = \\displaystyle\\sum_{n=1}^N\\mathrm{ln}\\left\\{\\displaystyle\\sum_{k=1}^K \\pi_{k}\\,p(\\mathbf{x}_n\\,|\\,\\boldsymbol{\\mu}_k)\\right\\}$$\n",
    "\n",
    "The appearance of the summation inside the logarithm in the above function means maximixum likelihood solution no longer has a closed form solution.\n",
    "\n",
    "To maximize the log likelihood function using Expection-Maximization approach, consider an explicit latent variable $\\mathbf{z}$ associated with each observation $\\mathbf{x}$, where $\\mathbf{z}=(z_1,...,z_K)^T$ is a binary K-dimensional variable having a single component equal to 1, and all others set to 0. The latent variable $\\mathbf{z}$ can be considered as a membership indicator for each observation. The marginal distribution of $\\mathbf{z}$ is specified in terms of the mixing coefficients $\\pi_k$, such that $p(z_k = 1) =\\,\\pi_k$, or\n",
    "\n",
    "$$p(\\mathbf{z}\\,|\\,\\boldsymbol{\\pi}) = \\displaystyle\\prod_{k=1}^K \\pi_k^{z_k}$$\n",
    "\n",
    "We can write the conditional distribution of $\\mathbf{x}$, given the latent variable as\n",
    "\n",
    "$$p(\\mathbf{x}\\,|\\,\\mathbf{z},\\boldsymbol{\\mu}) = \\displaystyle\\prod_{k=1}^K\\,p(\\mathbf{x}\\,|\\,\\boldsymbol{\\mu}_k)^{z_k}$$\n",
    "\n",
    "Now formulate the probability of the compelte-data (observed $\\mathbf{x}$ and latent $\\mathbf{z}$) using Bayes' theorem, $p(\\mathbf{x},\\mathbf{z}) = p(\\mathbf{x}\\,|\\,\\mathbf{z})\\,p(\\mathbf{z})$.\n",
    "\n",
    "For the complete-data, the probability is\n",
    "\n",
    "$$\n",
    "\\begin{align*}\n",
    " p(\\mathbf{X},\\mathbf{Z}\\,|\\,\\boldsymbol{\\mu},\\boldsymbol{\\pi}) &= \\displaystyle\\prod_{n=1}^{N}\\,p(\\mathbf{x}\\,|\\,\\mathbf{z},\\boldsymbol{\\mu})\\,p(\\mathbf{z}\\,|\\,\\boldsymbol{\\pi}) \\\\\n",
    "     &=\\displaystyle\\prod_{n=1}^{N}\\,\\displaystyle\\prod_{k=1}^{K} \\pi_{k}^{z_{nk}} \\left( p(\\mathbf{x}\\,|\\,\\mu_{k}\\right)^{z_{nk}} \\\\\n",
    "    & = \\displaystyle\\prod_{n=1}^{N}\\,\\displaystyle\\prod_{k=1}^{K} \\pi_{k}^{z_{nk}} \\left( \\displaystyle\\prod_{i=1}^D \\mu_{ki}^{x_{ni}}(1-\\mu_{ki})^{(1-x_{ni})}\\right)^{z_{nk}} \\\\\n",
    "\\end{align*}\n",
    "$$\n",
    "\n",
    "The corresponding complete-data log likelihood functions is:\n",
    "\n",
    "$$\n",
    "\\begin{align*}\n",
    "\\mathrm{ln}\\,p(\\mathbf{X},\\mathbf{Z}\\,|\\,\\boldsymbol{\\mu},\\boldsymbol{\\pi}) &= \\displaystyle\\sum_{n=1}^{N}\\,\\displaystyle\\sum_{k=1}^{K} z_{nk} \\left\\{ \\mathrm{ln}\\,\\left(\\pi_{k}\\,\\displaystyle\\prod_{i=1}^D \\mu_{ki}^{x_{ni}}(1-\\mu_{ki})^{(1-x_{ni})}\\right)\\right\\}\\\\\n",
    "&=\\displaystyle\\sum_{n=1}^{N}\\,\\displaystyle\\sum_{k=1}^{K} z_{nk} \\left\\{\\mathrm{ln}\\,\\pi_{k}+ \\displaystyle\\sum_{i=1}^D \\mathrm{ln}\\,\\left(\\mu_{ki}^{x_{ni}}(1-\\mu_{ki})^{(1-x_{ni})}\\right)\\right\\}\\\\\n",
    "&=\\displaystyle\\sum_{n=1}^{N}\\,\\displaystyle\\sum_{k=1}^{K} z_{nk} \\left\\{\\mathrm{ln}\\,\\pi_{k}+ \\displaystyle\\sum_{i=1}^D \\left[x_{ni}\\,\\mathrm{ln}\\,\\mu_{ki}+(1-x_{ni})\\,\\mathrm{ln}\\,(1-\\mu_{ki})\\right]\\right\\}\\\\\n",
    "\\end{align*}\n",
    "$$\n",
    "\n",
    "Notice that the above log likelihood function can be considered as a linear combination of $z_{nk}$. Since the expectation of a sum is the sum of the expectations, we can write the expectation of the complete-data log likelihood functions with respect to the posterior distribution of the latent variable as:\n",
    "\n",
    "$$\n",
    "\\mathbb{E}\\left[\\mathrm{ln}\\,p(\\mathbf{X},\\mathbf{Z}\\,|\\,\\boldsymbol{\\mu},\\boldsymbol{\\pi})\\right] = \\displaystyle\\sum_{n=1}^{N}\\,\\displaystyle\\sum_{k=1}^{K} \\gamma(z_{nk}) \\left\\{\\mathrm{ln}\\,\\pi_{k}+ \\displaystyle\\sum_{i=1}^D \\left[x_{ni}\\,\\mathrm{ln}\\,\\mu_{ki}+(1-x_{ni})\\,\\mathrm{ln}\\,(1-\\mu_{ki})\\right]\\right\\}\n",
    "$$\n",
    "\n",
    "where, $\\gamma(z_{nk}) = \\mathbb{E}[z_{nk}]$ is the posterior probability or responsibility of the mixture component $k$ given the data point $x_n$.\n",
    "<br>\n",
    "## E-M Algorithm for the Mixture of Bernoulli Distributions:\n",
    "With the above background, the E-M algorithm takes the following form.\n",
    "<br>\n",
    "<b>E-Step</b>:<br>\n",
    "Calculation of the responsibilites make the E step of the E-M algorithm.\n",
    "$$\n",
    "\\gamma(z_{nk})\\,=\\,\\mathbb{E}\\left[z_{nk}\\right]\\,=\\,\\frac{\\pi_{k}\\,p(\\mathbf{x}_n\\,|\\,\\boldsymbol{\\mu}_k)}{\\displaystyle\\sum_{j=1}^K\\,\\pi_j\\,p(\\mathbf{x}_n\\,|\\,\\boldsymbol{\\mu}_j)}\n",
    "$$\n",
    "<br>\n",
    "<b>M-Step</b>:  \n",
    "Maximizing the expectation of the complete-data log likelihood with respect to $\\boldsymbol\\mu_k$ and $\\boldsymbol\\pi_k$ yields the M step of the E-M algorithm:\n",
    "\n",
    "$$\n",
    "\\boldsymbol\\mu_k\\,=\\,\\frac{1}{N_k}\\displaystyle\\sum_{n=1}^N\\,\\gamma(z_{nk})\\mathbf{x}_n\n",
    "$$ and\n",
    "$$\n",
    "\\pi_{k}\\,=\\,\\frac{N_k}{N}\n",
    "$$\n",
    "where, $N_k\\,=\\,\\displaystyle\\sum_{n=1}^N\\,\\gamma(z_{nk})$ \n",
    "\n",
    "<br>\n",
    "\n",
    "\n",
    "\n"
   ]
  },
  {
   "cell_type": "code",
   "execution_count": 1,
   "metadata": {},
   "outputs": [],
   "source": [
    "import numpy as np\n",
    "import matplotlib.pyplot as plt\n",
    "%matplotlib inline\n",
    "\n",
    "from sklearn.datasets import fetch_mldata\n",
    "\n",
    "mnist = fetch_mldata(\"MNIST original\")\n",
    "mnist.data.shape\n",
    "'''\n",
    "MNIST data is in grey scale [0, 255].\n",
    "Convert it to a binary scale using a threshold of 128.\n",
    "'''\n",
    "mnist3 = (mnist.data/128).astype('int')"
   ]
  },
  {
   "cell_type": "code",
   "execution_count": 47,
   "metadata": {},
   "outputs": [],
   "source": [
    "def show(image):\n",
    "    '''\n",
    "    Function to plot the MNIST data\n",
    "    '''\n",
    "    fig = plt.figure()\n",
    "    ax = fig.add_subplot(1,1,1)\n",
    "    imgplot = ax.imshow(image, cmap=plt.cm.Greys)\n",
    "    imgplot.set_interpolation('nearest')\n",
    "    ax.xaxis.set_ticks_position('top')\n",
    "    ax.yaxis.set_ticks_position('left')\n",
    "    plt.show()"
   ]
  },
  {
   "cell_type": "code",
   "execution_count": 3,
   "metadata": {},
   "outputs": [],
   "source": [
    "def bernoulli(data, means):\n",
    "    '''To compute the probability of x for each bernouli distribution\n",
    "    data = N X D matrix\n",
    "    means = K X D matrix\n",
    "    prob (result) = N X K matrix \n",
    "    '''\n",
    "    N = len(data)\n",
    "    K = len(means)\n",
    "    #compute prob(x/mean)\n",
    "    # prob[i, k] for ith data point, and kth cluster/mixture distribution\n",
    "    prob = np.zeros((N, K))\n",
    "    \n",
    "    for i in range(N):\n",
    "        for k in range(K):\n",
    "            prob[i,k] = np.prod((means[k]**data[i])*((1-means[k])**(1-data[i])))\n",
    "    \n",
    "    return prob"
   ]
  },
  {
   "cell_type": "code",
   "execution_count": 4,
   "metadata": {},
   "outputs": [],
   "source": [
    "def respBernoulli(data, weights, means):\n",
    "    '''To compute responsibilities, or posterior probability p(z/x)\n",
    "    data = N X D matrix\n",
    "    weights = K dimensional vector\n",
    "    means = K X D matrix\n",
    "    prob or resp (result) = N X K matrix \n",
    "    '''\n",
    "    #step 1\n",
    "    # calculate the p(x/means)\n",
    "    prob = bernoulli(data, means)\n",
    "    \n",
    "    #step 2\n",
    "    # calculate the numerator of the resp.s\n",
    "    prob = prob*weights\n",
    "    \n",
    "    #step 3\n",
    "    # calcualte the denominator of the resp.s\n",
    "    row_sums = prob.sum(axis=1)[:, np.newaxis]\n",
    "    \n",
    "    # step 4\n",
    "    # calculate the resp.s\n",
    "    try:\n",
    "        prob = prob/row_sums\n",
    "        return prob\n",
    "    except ZeroDivisionError:\n",
    "        print(\"Division by zero occured in reponsibility calculations!\")\n",
    "            \n",
    "    "
   ]
  },
  {
   "cell_type": "code",
   "execution_count": 5,
   "metadata": {},
   "outputs": [],
   "source": [
    "def bernoulliMStep(data, resp):\n",
    "    '''Re-estimate the parameters using the current responsibilities\n",
    "    data = N X D matrix\n",
    "    resp = N X K matrix\n",
    "    return revised weights (K vector) and means (K X D matrix)\n",
    "    '''\n",
    "    N = len(data)\n",
    "    D = len(data[0])\n",
    "    K = len(resp[0])\n",
    "    \n",
    "    Nk = np.sum(resp, axis=0)\n",
    "    mus = np.empty((K,D))\n",
    "    \n",
    "    for k in range(K):\n",
    "            mus[k] = np.sum(resp[:,k][:,np.newaxis]*data,axis=0) #sum is over N data points\n",
    "            try:\n",
    "                mus[k] = mus[k]/Nk[k]   \n",
    "            except ZeroDivisionError:\n",
    "                print(\"Division by zero occured in Mixture of Bernoulli Dist M-Step!\")\n",
    "                break           \n",
    "    \n",
    "    return (Nk/N, mus)"
   ]
  },
  {
   "cell_type": "code",
   "execution_count": 6,
   "metadata": {},
   "outputs": [],
   "source": [
    "def llBernoulli(data, weights, means):\n",
    "    '''To compute expectation of the loglikelihood of Mixture of Beroullie distributions\n",
    "    Since computing E(LL) requires computing responsibilities, this function does a double-duty\n",
    "    to return responsibilities too\n",
    "    '''\n",
    "    N = len(data)\n",
    "    K = len(means)\n",
    "    \n",
    "    resp = respBernoulli(data, weights, means)\n",
    "    \n",
    "    ll = 0\n",
    "    for i in range(N):\n",
    "        sumK = 0\n",
    "        for k in range(K):\n",
    "            try:\n",
    "                temp1 = ((means[k]**data[i])*((1-means[k])**(1-data[i])))\n",
    "                temp1 = np.log(temp1.clip(min=1e-50))\n",
    "                \n",
    "            except:\n",
    "                print(\"Problem computing log(probability)\")\n",
    "            sumK += resp[i, k]*(np.log(weights[k])+np.sum(temp1))\n",
    "        ll += sumK\n",
    "    \n",
    "    return (ll, resp)"
   ]
  },
  {
   "cell_type": "code",
   "execution_count": 17,
   "metadata": {},
   "outputs": [],
   "source": [
    "def mixOfBernoulliEM(data, init_weights, init_means, maxiters=1000, relgap=1e-4, verbose=False):\n",
    "    '''EM algo fo Mixture of Bernoulli Distributions'''\n",
    "    N = len(data)\n",
    "    D = len(data[0])\n",
    "    K = len(init_means)\n",
    "    \n",
    "    #initalize\n",
    "    weights = init_weights[:]\n",
    "    means = init_means[:]\n",
    "    ll, resp = llBernoulli(data, weights, means)\n",
    "    ll_old = ll\n",
    "    \n",
    "    for i in range(maxiters):\n",
    "        if verbose and (i % 5 ==0):\n",
    "            print(\"iteration {}:\".format(i))\n",
    "            print(\"   {}:\".format(weights))\n",
    "            print(\"   {:.6}\".format(ll))\n",
    "            \n",
    "        #E Step: calculate resps\n",
    "        #Skip, rolled into log likelihood calc\n",
    "        #For 0th step, done as part of initialization\n",
    "            \n",
    "        #M Step\n",
    "        weights, means = bernoulliMStep(data, resp)\n",
    "        \n",
    "        #convergence check\n",
    "        ll, resp = llBernoulli(data, weights, means)\n",
    "        if np.abs(ll-ll_old)<relgap:\n",
    "            print(\"Relative gap:{:.8} at iternations {}\".format(ll-ll_old, i))\n",
    "            break\n",
    "        else:\n",
    "            ll_old = ll\n",
    "            \n",
    "    return (weights, means)"
   ]
  },
  {
   "cell_type": "code",
   "execution_count": 38,
   "metadata": {},
   "outputs": [],
   "source": [
    "from sklearn.utils import shuffle\n",
    "\n",
    "def pickData(digits, N):\n",
    "    sData, sTarget = shuffle(mnist3, mnist.target, random_state=30)\n",
    "    returnData = np.array([sData[i] for i in range(len(sData)) if sTarget[i] in digits])\n",
    "    return shuffle(returnData, n_samples=N, random_state=30)\n",
    "\n",
    "def experiments(digits, K, N, iters=50):\n",
    "    '''\n",
    "    Picks N random points of the selected 'digits' from MNIST data set and\n",
    "    fits a model using Mixture of Bernoulli distributions.\n",
    "    And returns the weights and means.\n",
    "    '''\n",
    "    \n",
    "    expData = pickData(digits, N)\n",
    "    \n",
    "    D = len(expData[0])\n",
    "\n",
    "    initWts = np.random.uniform(.25,.75,K)\n",
    "    tot = np.sum(initWts)\n",
    "    initWts = initWts/tot\n",
    "    \n",
    "    #initMeans = np.random.rand(10,D)\n",
    "    initMeans = np.full((K, D), 1.0/K)\n",
    "\n",
    "    return mixOfBernoulliEM(expData, initWts, initMeans, maxiters=iters, relgap=1e-15)"
   ]
  },
  {
   "cell_type": "code",
   "execution_count": 39,
   "metadata": {},
   "outputs": [
    {
     "data": {
      "image/png": "[encoded data removed]",
      "text/plain": [
       "<matplotlib.figure.Figure at 0x10760b358>"
      ]
     },
     "metadata": {},
     "output_type": "display_data"
    },
    {
     "data": {
      "image/png": "[encoded data removed]",
      "text/plain": [
       "<matplotlib.figure.Figure at 0x105e06208>"
      ]
     },
     "metadata": {},
     "output_type": "display_data"
    },
    {
     "data": {
      "image/png": "[encoded data removed]",
      "text/plain": [
       "<matplotlib.figure.Figure at 0x10d4c73c8>"
      ]
     },
     "metadata": {},
     "output_type": "display_data"
    },
    {
     "data": {
      "text/plain": [
       "[None, None, None]"
      ]
     },
     "execution_count": 39,
     "metadata": {},
     "output_type": "execute_result"
    }
   ],
   "source": [
    "finWeights, finMeans = experiments([2,3,9], 3, 1000)\n",
    "[show(finMeans[i].reshape(28,28)) for i in range(len(finMeans))]"
   ]
  },
  {
   "cell_type": "code",
   "execution_count": 43,
   "metadata": {},
   "outputs": [
    {
     "data": {
      "image/png": "[encoded data removed]",
      "text/plain": [
       "<matplotlib.figure.Figure at 0x10d6edb00>"
      ]
     },
     "metadata": {},
     "output_type": "display_data"
    },
    {
     "data": {
      "image/png": "[encoded data removed]",
      "text/plain": [
       "<matplotlib.figure.Figure at 0x10dae1cf8>"
      ]
     },
     "metadata": {},
     "output_type": "display_data"
    },
    {
     "data": {
      "image/png": "[encoded data removed]",
      "text/plain": [
       "<matplotlib.figure.Figure at 0x10d4a15f8>"
      ]
     },
     "metadata": {},
     "output_type": "display_data"
    },
    {
     "data": {
      "image/png": "[encoded data removed]",
      "text/plain": [
       "<matplotlib.figure.Figure at 0x105e19eb8>"
      ]
     },
     "metadata": {},
     "output_type": "display_data"
    },
    {
     "name": "stdout",
     "output_type": "stream",
     "text": [
      "[ 0.26757071  0.24729179  0.23207817  0.25305934]\n"
     ]
    }
   ],
   "source": [
    "finWeights, finMeans = experiments([1,2,3,7], 4, 5000)\n",
    "[show(finMeans[i].reshape(28,28)) for i in range(len(finMeans))]\n",
    "print(finWeights)"
   ]
  },
  {
   "cell_type": "code",
   "execution_count": 51,
   "metadata": {},
   "outputs": [
    {
     "data": {
      "image/png": "[encoded data removed]",
      "text/plain": [
       "<matplotlib.figure.Figure at 0x10d4a38d0>"
      ]
     },
     "metadata": {},
     "output_type": "display_data"
    },
    {
     "data": {
      "image/png": "[encoded data removed]",
      "text/plain": [
       "<matplotlib.figure.Figure at 0x107601d68>"
      ]
     },
     "metadata": {},
     "output_type": "display_data"
    },
    {
     "data": {
      "image/png": "[encoded data removed]",
      "text/plain": [
       "<matplotlib.figure.Figure at 0x105e1c7b8>"
      ]
     },
     "metadata": {},
     "output_type": "display_data"
    },
    {
     "data": {
      "image/png": "[encoded data removed]",
      "text/plain": [
       "<matplotlib.figure.Figure at 0x10d6e5ac8>"
      ]
     },
     "metadata": {},
     "output_type": "display_data"
    },
    {
     "name": "stdout",
     "output_type": "stream",
     "text": [
      "[ 0.1912005   0.15238828  0.34022079  0.31619044]\n"
     ]
    }
   ],
   "source": [
    "finWeights, finMeans = experiments([2,3,7], 4, 3000)\n",
    "[show(finMeans[i].reshape(28,28)) for i in range(len(finMeans))]\n",
    "print(finWeights)"
   ]
  }
 ],
 "metadata": {
  "kernelspec": {
   "display_name": "Python 3",
   "language": "python",
   "name": "python3"
  },
  "language_info": {
   "codemirror_mode": {
    "name": "ipython",
    "version": 3
   },
   "file_extension": ".py",
   "mimetype": "text/x-python",
   "name": "python",
   "nbconvert_exporter": "python",
   "pygments_lexer": "ipython3",
   "version": "3.5.4"
  }
 },
 "nbformat": 4,
 "nbformat_minor": 2
}
